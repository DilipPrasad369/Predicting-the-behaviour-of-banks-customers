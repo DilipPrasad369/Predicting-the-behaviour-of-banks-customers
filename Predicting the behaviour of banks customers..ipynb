{
 "cells": [
  {
   "cell_type": "code",
   "execution_count": 1,
   "id": "ff6f7d7c",
   "metadata": {},
   "outputs": [],
   "source": [
    "import numpy as np\n",
    "import pandas as pd\n",
    "\n",
    "import matplotlib.pyplot as plt\n",
    "\n",
    "import seaborn as sns\n",
    "\n",
    "import warnings\n",
    "warnings.filterwarnings('ignore')\n",
    "\n",
    "from scipy.stats import skew\n",
    "\n",
    "from sklearn.preprocessing import LabelEncoder,StandardScaler\n",
    "\n",
    "from sklearn.model_selection import train_test_split\n",
    "\n",
    "from sklearn.linear_model import LogisticRegression\n",
    "\n",
    "from sklearn.metrics import mean_squared_error,mean_absolute_error,r2_score,classification_report,confusion_matrix\n",
    "\n",
    "from sklearn.tree import DecisionTreeClassifier,DecisionTreeRegressor"
   ]
  },
  {
   "cell_type": "markdown",
   "id": "b9a5676b",
   "metadata": {},
   "source": [
    "### reading data from csv file"
   ]
  },
  {
   "cell_type": "code",
   "execution_count": 2,
   "id": "6d4463db",
   "metadata": {},
   "outputs": [
    {
     "data": {
      "text/html": [
       "<div>\n",
       "<style scoped>\n",
       "    .dataframe tbody tr th:only-of-type {\n",
       "        vertical-align: middle;\n",
       "    }\n",
       "\n",
       "    .dataframe tbody tr th {\n",
       "        vertical-align: top;\n",
       "    }\n",
       "\n",
       "    .dataframe thead th {\n",
       "        text-align: right;\n",
       "    }\n",
       "</style>\n",
       "<table border=\"1\" class=\"dataframe\">\n",
       "  <thead>\n",
       "    <tr style=\"text-align: right;\">\n",
       "      <th></th>\n",
       "      <th>RowNumber</th>\n",
       "      <th>CustomerId</th>\n",
       "      <th>Surname</th>\n",
       "      <th>CreditScore</th>\n",
       "      <th>Geography</th>\n",
       "      <th>Gender</th>\n",
       "      <th>Age</th>\n",
       "      <th>Tenure</th>\n",
       "      <th>Balance</th>\n",
       "      <th>NumOfProducts</th>\n",
       "      <th>HasCrCard</th>\n",
       "      <th>IsActiveMember</th>\n",
       "      <th>EstimatedSalary</th>\n",
       "      <th>Exited</th>\n",
       "    </tr>\n",
       "  </thead>\n",
       "  <tbody>\n",
       "    <tr>\n",
       "      <th>0</th>\n",
       "      <td>1</td>\n",
       "      <td>15634602</td>\n",
       "      <td>Hargrave</td>\n",
       "      <td>619</td>\n",
       "      <td>France</td>\n",
       "      <td>Female</td>\n",
       "      <td>42</td>\n",
       "      <td>2</td>\n",
       "      <td>0.00</td>\n",
       "      <td>1</td>\n",
       "      <td>1</td>\n",
       "      <td>1</td>\n",
       "      <td>101348.88</td>\n",
       "      <td>1</td>\n",
       "    </tr>\n",
       "    <tr>\n",
       "      <th>1</th>\n",
       "      <td>2</td>\n",
       "      <td>15647311</td>\n",
       "      <td>Hill</td>\n",
       "      <td>608</td>\n",
       "      <td>Spain</td>\n",
       "      <td>Female</td>\n",
       "      <td>41</td>\n",
       "      <td>1</td>\n",
       "      <td>83807.86</td>\n",
       "      <td>1</td>\n",
       "      <td>0</td>\n",
       "      <td>1</td>\n",
       "      <td>112542.58</td>\n",
       "      <td>0</td>\n",
       "    </tr>\n",
       "    <tr>\n",
       "      <th>2</th>\n",
       "      <td>3</td>\n",
       "      <td>15619304</td>\n",
       "      <td>Onio</td>\n",
       "      <td>502</td>\n",
       "      <td>France</td>\n",
       "      <td>Female</td>\n",
       "      <td>42</td>\n",
       "      <td>8</td>\n",
       "      <td>159660.80</td>\n",
       "      <td>3</td>\n",
       "      <td>1</td>\n",
       "      <td>0</td>\n",
       "      <td>113931.57</td>\n",
       "      <td>1</td>\n",
       "    </tr>\n",
       "    <tr>\n",
       "      <th>3</th>\n",
       "      <td>4</td>\n",
       "      <td>15701354</td>\n",
       "      <td>Boni</td>\n",
       "      <td>699</td>\n",
       "      <td>France</td>\n",
       "      <td>Female</td>\n",
       "      <td>39</td>\n",
       "      <td>1</td>\n",
       "      <td>0.00</td>\n",
       "      <td>2</td>\n",
       "      <td>0</td>\n",
       "      <td>0</td>\n",
       "      <td>93826.63</td>\n",
       "      <td>0</td>\n",
       "    </tr>\n",
       "    <tr>\n",
       "      <th>4</th>\n",
       "      <td>5</td>\n",
       "      <td>15737888</td>\n",
       "      <td>Mitchell</td>\n",
       "      <td>850</td>\n",
       "      <td>Spain</td>\n",
       "      <td>Female</td>\n",
       "      <td>43</td>\n",
       "      <td>2</td>\n",
       "      <td>125510.82</td>\n",
       "      <td>1</td>\n",
       "      <td>1</td>\n",
       "      <td>1</td>\n",
       "      <td>79084.10</td>\n",
       "      <td>0</td>\n",
       "    </tr>\n",
       "  </tbody>\n",
       "</table>\n",
       "</div>"
      ],
      "text/plain": [
       "   RowNumber  CustomerId   Surname  CreditScore Geography  Gender  Age  \\\n",
       "0          1    15634602  Hargrave          619    France  Female   42   \n",
       "1          2    15647311      Hill          608     Spain  Female   41   \n",
       "2          3    15619304      Onio          502    France  Female   42   \n",
       "3          4    15701354      Boni          699    France  Female   39   \n",
       "4          5    15737888  Mitchell          850     Spain  Female   43   \n",
       "\n",
       "   Tenure    Balance  NumOfProducts  HasCrCard  IsActiveMember  \\\n",
       "0       2       0.00              1          1               1   \n",
       "1       1   83807.86              1          0               1   \n",
       "2       8  159660.80              3          1               0   \n",
       "3       1       0.00              2          0               0   \n",
       "4       2  125510.82              1          1               1   \n",
       "\n",
       "   EstimatedSalary  Exited  \n",
       "0        101348.88       1  \n",
       "1        112542.58       0  \n",
       "2        113931.57       1  \n",
       "3         93826.63       0  \n",
       "4         79084.10       0  "
      ]
     },
     "execution_count": 2,
     "metadata": {},
     "output_type": "execute_result"
    }
   ],
   "source": [
    "df=pd.read_csv(\"Churn_Modelling.csv\")\n",
    "df.head()"
   ]
  },
  {
   "cell_type": "code",
   "execution_count": 3,
   "id": "dda17ab7",
   "metadata": {},
   "outputs": [
    {
     "data": {
      "text/plain": [
       "(10000, 14)"
      ]
     },
     "execution_count": 3,
     "metadata": {},
     "output_type": "execute_result"
    }
   ],
   "source": [
    "df.shape # rows=10000 , columns=14"
   ]
  },
  {
   "cell_type": "code",
   "execution_count": 4,
   "id": "dd195733",
   "metadata": {},
   "outputs": [
    {
     "name": "stdout",
     "output_type": "stream",
     "text": [
      "<class 'pandas.core.frame.DataFrame'>\n",
      "RangeIndex: 10000 entries, 0 to 9999\n",
      "Data columns (total 14 columns):\n",
      " #   Column           Non-Null Count  Dtype  \n",
      "---  ------           --------------  -----  \n",
      " 0   RowNumber        10000 non-null  int64  \n",
      " 1   CustomerId       10000 non-null  int64  \n",
      " 2   Surname          10000 non-null  object \n",
      " 3   CreditScore      10000 non-null  int64  \n",
      " 4   Geography        10000 non-null  object \n",
      " 5   Gender           10000 non-null  object \n",
      " 6   Age              10000 non-null  int64  \n",
      " 7   Tenure           10000 non-null  int64  \n",
      " 8   Balance          10000 non-null  float64\n",
      " 9   NumOfProducts    10000 non-null  int64  \n",
      " 10  HasCrCard        10000 non-null  int64  \n",
      " 11  IsActiveMember   10000 non-null  int64  \n",
      " 12  EstimatedSalary  10000 non-null  float64\n",
      " 13  Exited           10000 non-null  int64  \n",
      "dtypes: float64(2), int64(9), object(3)\n",
      "memory usage: 1.1+ MB\n"
     ]
    }
   ],
   "source": [
    "df.info()"
   ]
  },
  {
   "cell_type": "code",
   "execution_count": 5,
   "id": "bfe0fd7a",
   "metadata": {},
   "outputs": [
    {
     "data": {
      "text/html": [
       "<div>\n",
       "<style scoped>\n",
       "    .dataframe tbody tr th:only-of-type {\n",
       "        vertical-align: middle;\n",
       "    }\n",
       "\n",
       "    .dataframe tbody tr th {\n",
       "        vertical-align: top;\n",
       "    }\n",
       "\n",
       "    .dataframe thead th {\n",
       "        text-align: right;\n",
       "    }\n",
       "</style>\n",
       "<table border=\"1\" class=\"dataframe\">\n",
       "  <thead>\n",
       "    <tr style=\"text-align: right;\">\n",
       "      <th></th>\n",
       "      <th>RowNumber</th>\n",
       "      <th>CustomerId</th>\n",
       "      <th>CreditScore</th>\n",
       "      <th>Age</th>\n",
       "      <th>Tenure</th>\n",
       "      <th>Balance</th>\n",
       "      <th>NumOfProducts</th>\n",
       "      <th>HasCrCard</th>\n",
       "      <th>IsActiveMember</th>\n",
       "      <th>EstimatedSalary</th>\n",
       "      <th>Exited</th>\n",
       "    </tr>\n",
       "  </thead>\n",
       "  <tbody>\n",
       "    <tr>\n",
       "      <th>count</th>\n",
       "      <td>10000.00000</td>\n",
       "      <td>1.000000e+04</td>\n",
       "      <td>10000.000000</td>\n",
       "      <td>10000.000000</td>\n",
       "      <td>10000.000000</td>\n",
       "      <td>10000.000000</td>\n",
       "      <td>10000.000000</td>\n",
       "      <td>10000.00000</td>\n",
       "      <td>10000.000000</td>\n",
       "      <td>10000.000000</td>\n",
       "      <td>10000.000000</td>\n",
       "    </tr>\n",
       "    <tr>\n",
       "      <th>mean</th>\n",
       "      <td>5000.50000</td>\n",
       "      <td>1.569094e+07</td>\n",
       "      <td>650.528800</td>\n",
       "      <td>38.921800</td>\n",
       "      <td>5.012800</td>\n",
       "      <td>76485.889288</td>\n",
       "      <td>1.530200</td>\n",
       "      <td>0.70550</td>\n",
       "      <td>0.515100</td>\n",
       "      <td>100090.239881</td>\n",
       "      <td>0.203700</td>\n",
       "    </tr>\n",
       "    <tr>\n",
       "      <th>std</th>\n",
       "      <td>2886.89568</td>\n",
       "      <td>7.193619e+04</td>\n",
       "      <td>96.653299</td>\n",
       "      <td>10.487806</td>\n",
       "      <td>2.892174</td>\n",
       "      <td>62397.405202</td>\n",
       "      <td>0.581654</td>\n",
       "      <td>0.45584</td>\n",
       "      <td>0.499797</td>\n",
       "      <td>57510.492818</td>\n",
       "      <td>0.402769</td>\n",
       "    </tr>\n",
       "    <tr>\n",
       "      <th>min</th>\n",
       "      <td>1.00000</td>\n",
       "      <td>1.556570e+07</td>\n",
       "      <td>350.000000</td>\n",
       "      <td>18.000000</td>\n",
       "      <td>0.000000</td>\n",
       "      <td>0.000000</td>\n",
       "      <td>1.000000</td>\n",
       "      <td>0.00000</td>\n",
       "      <td>0.000000</td>\n",
       "      <td>11.580000</td>\n",
       "      <td>0.000000</td>\n",
       "    </tr>\n",
       "    <tr>\n",
       "      <th>25%</th>\n",
       "      <td>2500.75000</td>\n",
       "      <td>1.562853e+07</td>\n",
       "      <td>584.000000</td>\n",
       "      <td>32.000000</td>\n",
       "      <td>3.000000</td>\n",
       "      <td>0.000000</td>\n",
       "      <td>1.000000</td>\n",
       "      <td>0.00000</td>\n",
       "      <td>0.000000</td>\n",
       "      <td>51002.110000</td>\n",
       "      <td>0.000000</td>\n",
       "    </tr>\n",
       "    <tr>\n",
       "      <th>50%</th>\n",
       "      <td>5000.50000</td>\n",
       "      <td>1.569074e+07</td>\n",
       "      <td>652.000000</td>\n",
       "      <td>37.000000</td>\n",
       "      <td>5.000000</td>\n",
       "      <td>97198.540000</td>\n",
       "      <td>1.000000</td>\n",
       "      <td>1.00000</td>\n",
       "      <td>1.000000</td>\n",
       "      <td>100193.915000</td>\n",
       "      <td>0.000000</td>\n",
       "    </tr>\n",
       "    <tr>\n",
       "      <th>75%</th>\n",
       "      <td>7500.25000</td>\n",
       "      <td>1.575323e+07</td>\n",
       "      <td>718.000000</td>\n",
       "      <td>44.000000</td>\n",
       "      <td>7.000000</td>\n",
       "      <td>127644.240000</td>\n",
       "      <td>2.000000</td>\n",
       "      <td>1.00000</td>\n",
       "      <td>1.000000</td>\n",
       "      <td>149388.247500</td>\n",
       "      <td>0.000000</td>\n",
       "    </tr>\n",
       "    <tr>\n",
       "      <th>max</th>\n",
       "      <td>10000.00000</td>\n",
       "      <td>1.581569e+07</td>\n",
       "      <td>850.000000</td>\n",
       "      <td>92.000000</td>\n",
       "      <td>10.000000</td>\n",
       "      <td>250898.090000</td>\n",
       "      <td>4.000000</td>\n",
       "      <td>1.00000</td>\n",
       "      <td>1.000000</td>\n",
       "      <td>199992.480000</td>\n",
       "      <td>1.000000</td>\n",
       "    </tr>\n",
       "  </tbody>\n",
       "</table>\n",
       "</div>"
      ],
      "text/plain": [
       "         RowNumber    CustomerId   CreditScore           Age        Tenure  \\\n",
       "count  10000.00000  1.000000e+04  10000.000000  10000.000000  10000.000000   \n",
       "mean    5000.50000  1.569094e+07    650.528800     38.921800      5.012800   \n",
       "std     2886.89568  7.193619e+04     96.653299     10.487806      2.892174   \n",
       "min        1.00000  1.556570e+07    350.000000     18.000000      0.000000   \n",
       "25%     2500.75000  1.562853e+07    584.000000     32.000000      3.000000   \n",
       "50%     5000.50000  1.569074e+07    652.000000     37.000000      5.000000   \n",
       "75%     7500.25000  1.575323e+07    718.000000     44.000000      7.000000   \n",
       "max    10000.00000  1.581569e+07    850.000000     92.000000     10.000000   \n",
       "\n",
       "             Balance  NumOfProducts    HasCrCard  IsActiveMember  \\\n",
       "count   10000.000000   10000.000000  10000.00000    10000.000000   \n",
       "mean    76485.889288       1.530200      0.70550        0.515100   \n",
       "std     62397.405202       0.581654      0.45584        0.499797   \n",
       "min         0.000000       1.000000      0.00000        0.000000   \n",
       "25%         0.000000       1.000000      0.00000        0.000000   \n",
       "50%     97198.540000       1.000000      1.00000        1.000000   \n",
       "75%    127644.240000       2.000000      1.00000        1.000000   \n",
       "max    250898.090000       4.000000      1.00000        1.000000   \n",
       "\n",
       "       EstimatedSalary        Exited  \n",
       "count     10000.000000  10000.000000  \n",
       "mean     100090.239881      0.203700  \n",
       "std       57510.492818      0.402769  \n",
       "min          11.580000      0.000000  \n",
       "25%       51002.110000      0.000000  \n",
       "50%      100193.915000      0.000000  \n",
       "75%      149388.247500      0.000000  \n",
       "max      199992.480000      1.000000  "
      ]
     },
     "execution_count": 5,
     "metadata": {},
     "output_type": "execute_result"
    }
   ],
   "source": [
    "df.describe()"
   ]
  },
  {
   "cell_type": "markdown",
   "id": "5bd7bfd2",
   "metadata": {},
   "source": [
    "### checking whether features have outlier or not."
   ]
  },
  {
   "cell_type": "code",
   "execution_count": 6,
   "id": "427d3fb5",
   "metadata": {},
   "outputs": [
    {
     "data": {
      "image/png": "[encoded data removed]",
      "text/plain": [
       "<Figure size 432x288 with 1 Axes>"
      ]
     },
     "metadata": {
      "needs_background": "light"
     },
     "output_type": "display_data"
    },
    {
     "data": {
      "image/png": "[encoded data removed]",
      "text/plain": [
       "<Figure size 432x288 with 1 Axes>"
      ]
     },
     "metadata": {
      "needs_background": "light"
     },
     "output_type": "display_data"
    },
    {
     "data": {
      "image/png": "[encoded data removed]",
      "text/plain": [
       "<Figure size 432x288 with 1 Axes>"
      ]
     },
     "metadata": {
      "needs_background": "light"
     },
     "output_type": "display_data"
    },
    {
     "data": {
      "image/png": "[encoded data removed]",
      "text/plain": [
       "<Figure size 432x288 with 1 Axes>"
      ]
     },
     "metadata": {
      "needs_background": "light"
     },
     "output_type": "display_data"
    },
    {
     "data": {
      "image/png": "[encoded data removed]",
      "text/plain": [
       "<Figure size 432x288 with 1 Axes>"
      ]
     },
     "metadata": {
      "needs_background": "light"
     },
     "output_type": "display_data"
    },
    {
     "data": {
      "image/png": "[encoded data removed]",
      "text/plain": [
       "<Figure size 432x288 with 1 Axes>"
      ]
     },
     "metadata": {
      "needs_background": "light"
     },
     "output_type": "display_data"
    },
    {
     "data": {
      "image/png": "[encoded data removed]",
      "text/plain": [
       "<Figure size 432x288 with 1 Axes>"
      ]
     },
     "metadata": {
      "needs_background": "light"
     },
     "output_type": "display_data"
    },
    {
     "data": {
      "image/png": "[encoded data removed]",
      "text/plain": [
       "<Figure size 432x288 with 1 Axes>"
      ]
     },
     "metadata": {
      "needs_background": "light"
     },
     "output_type": "display_data"
    },
    {
     "data": {
      "image/png": "[encoded data removed]",
      "text/plain": [
       "<Figure size 432x288 with 1 Axes>"
      ]
     },
     "metadata": {
      "needs_background": "light"
     },
     "output_type": "display_data"
    },
    {
     "data": {
      "image/png": "[encoded data removed]",
      "text/plain": [
       "<Figure size 432x288 with 1 Axes>"
      ]
     },
     "metadata": {
      "needs_background": "light"
     },
     "output_type": "display_data"
    }
   ],
   "source": [
    "columns=df.drop(['Surname','Geography','Gender','Exited'],axis=1)\n",
    "\n",
    "for col in columns:\n",
    "    plt.figure()\n",
    "    sns.boxplot(df[col])\n",
    "    plt.show()"
   ]
  },
  {
   "cell_type": "markdown",
   "id": "0a30a852",
   "metadata": {},
   "source": [
    "###  Outliers present in following columns:\n",
    "###  CreditScore\n",
    "###  Age\n",
    "###  NumOfProducts"
   ]
  },
  {
   "cell_type": "markdown",
   "id": "aa7ddedd",
   "metadata": {},
   "source": [
    "### We plot a boxplot between above features and target to see outlier and then remove the outlier."
   ]
  },
  {
   "cell_type": "code",
   "execution_count": 7,
   "id": "adc50cf1",
   "metadata": {},
   "outputs": [
    {
     "data": {
      "image/png": "[encoded data removed]",
      "text/plain": [
       "<Figure size 432x288 with 1 Axes>"
      ]
     },
     "metadata": {
      "needs_background": "light"
     },
     "output_type": "display_data"
    },
    {
     "data": {
      "image/png": "[encoded data removed]",
      "text/plain": [
       "<Figure size 432x288 with 1 Axes>"
      ]
     },
     "metadata": {
      "needs_background": "light"
     },
     "output_type": "display_data"
    },
    {
     "data": {
      "image/png": "[encoded data removed]",
      "text/plain": [
       "<Figure size 432x288 with 1 Axes>"
      ]
     },
     "metadata": {
      "needs_background": "light"
     },
     "output_type": "display_data"
    }
   ],
   "source": [
    "outlier_columns=['CreditScore','Age','NumOfProducts']\n",
    "\n",
    "for col in outlier_columns:\n",
    "    plt.figure()\n",
    "    sns.boxplot(data=df,y=col,x='Exited')\n",
    "    plt.show()"
   ]
  },
  {
   "cell_type": "code",
   "execution_count": 8,
   "id": "bf5062d9",
   "metadata": {},
   "outputs": [],
   "source": [
    "for exit in df['Exited'].unique():\n",
    "    cs=df[df['Exited']==exit]['CreditScore']\n",
    "    q1=np.quantile(cs,0.25)\n",
    "    q3=np.quantile(cs,0.75)\n",
    "    iqr=q3-q1\n",
    "    uw=q3+0.5*iqr\n",
    "    lw=q1-0.5*iqr\n",
    "        \n",
    "    index1=cs[cs>uw].index\n",
    "    if len(index1)!=0:\n",
    "        df.drop(index1,inplace=True)\n",
    "\n",
    "    index2=cs[cs<lw].index\n",
    "    if len(index2)!=0:\n",
    "        df.drop(index2,inplace=True)"
   ]
  },
  {
   "cell_type": "code",
   "execution_count": 9,
   "id": "77f2d188",
   "metadata": {},
   "outputs": [],
   "source": [
    "for exit in df['Exited'].unique():\n",
    "    ages=df[df['Exited']==exit]['Age']\n",
    "    q1=np.quantile(ages,0.25)\n",
    "    q3=np.quantile(ages,0.75)\n",
    "    iqr=q3-q1\n",
    "    uw=q3+0.5*iqr\n",
    "    lw=q1-0.5*iqr\n",
    "        \n",
    "    index1=ages[ages>uw].index\n",
    "    if len(index1)!=0:\n",
    "        df.drop(index1,inplace=True)\n",
    "\n",
    "    index2=ages[ages<lw].index\n",
    "    if len(index2)!=0:\n",
    "        df.drop(index2,inplace=True)"
   ]
  },
  {
   "cell_type": "code",
   "execution_count": 10,
   "id": "c4cd61aa",
   "metadata": {},
   "outputs": [],
   "source": [
    "for exit in df['Exited'].unique():\n",
    "    nop=df[df['Exited']==exit]['NumOfProducts']\n",
    "    q1=np.quantile(nop,0.25)\n",
    "    q3=np.quantile(nop,0.75)\n",
    "    iqr=q3-q1\n",
    "    uw=q3+1.5*iqr\n",
    "    lw=q1-1.5*iqr\n",
    "        \n",
    "    index1=nop[nop>uw].index\n",
    "    if len(index1)!=0:\n",
    "        df.drop(index1,inplace=True)\n",
    "\n",
    "    index2=nop[nop<lw].index\n",
    "    if len(index2)!=0:\n",
    "        df.drop(index2,inplace=True)"
   ]
  },
  {
   "cell_type": "code",
   "execution_count": 11,
   "id": "d7d62645",
   "metadata": {},
   "outputs": [
    {
     "data": {
      "image/png": "[encoded data removed]",
      "text/plain": [
       "<Figure size 432x288 with 1 Axes>"
      ]
     },
     "metadata": {
      "needs_background": "light"
     },
     "output_type": "display_data"
    },
    {
     "data": {
      "image/png": "[encoded data removed]",
      "text/plain": [
       "<Figure size 432x288 with 1 Axes>"
      ]
     },
     "metadata": {
      "needs_background": "light"
     },
     "output_type": "display_data"
    },
    {
     "data": {
      "image/png": "[encoded data removed]",
      "text/plain": [
       "<Figure size 432x288 with 1 Axes>"
      ]
     },
     "metadata": {
      "needs_background": "light"
     },
     "output_type": "display_data"
    }
   ],
   "source": [
    "for col in outlier_columns:\n",
    "    plt.figure()\n",
    "    sns.boxplot(data=df,y=col,x='Exited')\n",
    "    plt.show()"
   ]
  },
  {
   "cell_type": "code",
   "execution_count": 12,
   "id": "e4393a90",
   "metadata": {},
   "outputs": [
    {
     "data": {
      "text/plain": [
       "array(['Female', 'Male'], dtype=object)"
      ]
     },
     "execution_count": 12,
     "metadata": {},
     "output_type": "execute_result"
    }
   ],
   "source": [
    "df['Gender'].unique()"
   ]
  },
  {
   "cell_type": "markdown",
   "id": "d99a1b65",
   "metadata": {},
   "source": [
    "### plotting a countplot for performing EDA on categorical data."
   ]
  },
  {
   "cell_type": "code",
   "execution_count": 13,
   "id": "6ac89d11",
   "metadata": {},
   "outputs": [
    {
     "data": {
      "image/png": "[encoded data removed]",
      "text/plain": [
       "<Figure size 432x288 with 1 Axes>"
      ]
     },
     "metadata": {
      "needs_background": "light"
     },
     "output_type": "display_data"
    },
    {
     "data": {
      "image/png": "[encoded data removed]",
      "text/plain": [
       "<Figure size 432x288 with 1 Axes>"
      ]
     },
     "metadata": {
      "needs_background": "light"
     },
     "output_type": "display_data"
    }
   ],
   "source": [
    "colum=['Geography','Gender']\n",
    "\n",
    "for col in colum:\n",
    "    plt.figure()\n",
    "    sns.countplot(data=df,x=col,hue='Exited')\n",
    "    plt.show()"
   ]
  },
  {
   "cell_type": "markdown",
   "id": "0e3a1fea",
   "metadata": {},
   "source": [
    "### plotting a countplot for taget to see if the dataset is balanced or imbalance."
   ]
  },
  {
   "cell_type": "code",
   "execution_count": 14,
   "id": "85d82952",
   "metadata": {},
   "outputs": [
    {
     "data": {
      "image/png": "[encoded data removed]",
      "text/plain": [
       "<Figure size 432x288 with 1 Axes>"
      ]
     },
     "metadata": {
      "needs_background": "light"
     },
     "output_type": "display_data"
    }
   ],
   "source": [
    "plt.figure()\n",
    "sns.countplot(df['Exited'])\n",
    "plt.show()"
   ]
  },
  {
   "cell_type": "markdown",
   "id": "63d4c25c",
   "metadata": {},
   "source": [
    "### so the dataset is highly imbalance."
   ]
  },
  {
   "cell_type": "markdown",
   "id": "cfb6c5d5",
   "metadata": {},
   "source": [
    "### splitting the data into features and target."
   ]
  },
  {
   "cell_type": "code",
   "execution_count": 15,
   "id": "187a6f97",
   "metadata": {},
   "outputs": [],
   "source": [
    "X=df.drop(['RowNumber','Surname','Exited'],axis=1)\n",
    "y=df['Exited']"
   ]
  },
  {
   "cell_type": "code",
   "execution_count": 16,
   "id": "da27cbd3",
   "metadata": {},
   "outputs": [],
   "source": [
    "X_train,X_test,y_train,y_test=train_test_split(X,y,test_size=0.3,random_state=1)"
   ]
  },
  {
   "cell_type": "markdown",
   "id": "450a5276",
   "metadata": {},
   "source": [
    "### label encoding the categorical columns."
   ]
  },
  {
   "cell_type": "code",
   "execution_count": 17,
   "id": "6ad5ff0a",
   "metadata": {},
   "outputs": [],
   "source": [
    "columns_=['Geography','Gender']\n",
    "\n",
    "for col_ in columns_:\n",
    "    le=LabelEncoder()\n",
    "    X_train[col_]=le.fit_transform(X_train[col_])\n",
    "    X_test[col_]=le.transform(X_test[col_])"
   ]
  },
  {
   "cell_type": "markdown",
   "id": "09895bff",
   "metadata": {},
   "source": [
    "### scaling the features(numerical features) using standard scaler."
   ]
  },
  {
   "cell_type": "code",
   "execution_count": 18,
   "id": "839aaeeb",
   "metadata": {},
   "outputs": [],
   "source": [
    "scaling=['CustomerId','CreditScore','Age','Tenure','Balance','NumOfProducts','HasCrCard','IsActiveMember','EstimatedSalary']\n",
    "\n",
    "for col in scaling:\n",
    "    ss=StandardScaler()\n",
    "    X_train[col]=ss.fit_transform(X_train[[col]])\n",
    "    X_test[col]=ss.transform(X_test[[col]])"
   ]
  },
  {
   "cell_type": "markdown",
   "id": "631362b1",
   "metadata": {},
   "source": [
    "### making the imbalance data balanced using Random Over Sampler"
   ]
  },
  {
   "cell_type": "code",
   "execution_count": 19,
   "id": "1f777492",
   "metadata": {},
   "outputs": [],
   "source": [
    "from imblearn.over_sampling import RandomOverSampler"
   ]
  },
  {
   "cell_type": "code",
   "execution_count": 20,
   "id": "ba465b2c",
   "metadata": {},
   "outputs": [],
   "source": [
    "rs = RandomOverSampler(random_state=1)\n",
    "X_train_rs, y_train_rs = rs.fit_resample(X_train,y_train)"
   ]
  },
  {
   "cell_type": "code",
   "execution_count": 21,
   "id": "44a0faf8",
   "metadata": {},
   "outputs": [
    {
     "data": {
      "text/plain": [
       "1    3629\n",
       "0    3629\n",
       "Name: Exited, dtype: int64"
      ]
     },
     "execution_count": 21,
     "metadata": {},
     "output_type": "execute_result"
    }
   ],
   "source": [
    "y_train_rs.value_counts()"
   ]
  },
  {
   "cell_type": "markdown",
   "id": "5a0812a7",
   "metadata": {},
   "source": [
    "## Naive Bayes Algorithm"
   ]
  },
  {
   "cell_type": "code",
   "execution_count": 22,
   "id": "ac39fade",
   "metadata": {},
   "outputs": [
    {
     "name": "stdout",
     "output_type": "stream",
     "text": [
      "              precision    recall  f1-score   support\n",
      "\n",
      "           0       0.94      0.83      0.88      1579\n",
      "           1       0.52      0.78      0.63       383\n",
      "\n",
      "    accuracy                           0.82      1962\n",
      "   macro avg       0.73      0.81      0.75      1962\n",
      "weighted avg       0.86      0.82      0.83      1962\n",
      "\n"
     ]
    }
   ],
   "source": [
    "from sklearn.naive_bayes import GaussianNB\n",
    "\n",
    "#training data on training data\n",
    "model = GaussianNB()\n",
    "\n",
    "model.fit(X_train_rs,y_train_rs)\n",
    "\n",
    "# predict on testing data\n",
    "\n",
    "y_pred = model.predict(X_test)\n",
    "print(classification_report(y_test,y_pred))"
   ]
  },
  {
   "cell_type": "markdown",
   "id": "97d25abf",
   "metadata": {},
   "source": [
    "### Eplaination:-> Here we have created the model of GaussianNB and trained our model and this model has an acceptable value of the accuracy that is 82% and here the False Negative is critical so we should have an acceptably or high value of recall but as we see from the classification report the recall is 78% though it is not in the acceptable range of 80%-100% but still it is close to 80% so here it can solve the purpose."
   ]
  },
  {
   "cell_type": "markdown",
   "id": "31c09135",
   "metadata": {},
   "source": [
    "## KNN (K-Nearest Neighbour)"
   ]
  },
  {
   "cell_type": "code",
   "execution_count": 23,
   "id": "7144647b",
   "metadata": {},
   "outputs": [],
   "source": [
    "from sklearn.neighbors import KNeighborsClassifier\n",
    "\n",
    "neighbors = [3,5,7,9,11,13,15,17,19,21,23,25,27,29,31,33,35,37,39,41,43,45,47,49,85]\n",
    "\n",
    "train_scores = []\n",
    "test_scores = []\n",
    "\n",
    "for k in neighbors:\n",
    "    knn = KNeighborsClassifier(n_neighbors=k)\n",
    "    knn.fit(X_train_rs,y_train_rs)\n",
    "    \n",
    "    train_score = knn.score(X_train_rs,y_train_rs)#gives accuracy\n",
    "    test_score = knn.score(X_test,y_test)#gives accuracy\n",
    "    \n",
    "    train_scores.append(train_score)#gives accuracy\n",
    "    test_scores.append(test_score)#gives accuracy"
   ]
  },
  {
   "cell_type": "markdown",
   "id": "e80a8c3a",
   "metadata": {},
   "source": [
    "### Explaination:-> Plotting a graph for/of training and testing score, for various value of the k(no. of nearest neighbour)."
   ]
  },
  {
   "cell_type": "code",
   "execution_count": 24,
   "id": "d289d180",
   "metadata": {},
   "outputs": [
    {
     "data": {
      "image/png": "[encoded data removed]",
      "text/plain": [
       "<Figure size 432x288 with 1 Axes>"
      ]
     },
     "metadata": {
      "needs_background": "light"
     },
     "output_type": "display_data"
    }
   ],
   "source": [
    "plt.figure()\n",
    "plt.plot(train_scores, color=\"red\")\n",
    "plt.plot(test_scores, color=\"blue\")\n",
    "plt.show()"
   ]
  },
  {
   "cell_type": "code",
   "execution_count": 25,
   "id": "807ba9fd",
   "metadata": {},
   "outputs": [
    {
     "name": "stdout",
     "output_type": "stream",
     "text": [
      "              precision    recall  f1-score   support\n",
      "\n",
      "           0       0.94      0.82      0.88      1579\n",
      "           1       0.51      0.79      0.62       383\n",
      "\n",
      "    accuracy                           0.81      1962\n",
      "   macro avg       0.73      0.80      0.75      1962\n",
      "weighted avg       0.86      0.81      0.83      1962\n",
      "\n"
     ]
    }
   ],
   "source": [
    "# Final model\n",
    "knn = KNeighborsClassifier(n_neighbors=85)\n",
    "\n",
    "knn.fit(X_train_rs,y_train_rs)\n",
    "\n",
    "y_pred = knn.predict(X_test)\n",
    "\n",
    "print(classification_report(y_test,y_pred))"
   ]
  },
  {
   "cell_type": "markdown",
   "id": "67d2b8e3",
   "metadata": {},
   "source": [
    "### Explaination: Here the applied algorithm is KNN and for this we have plot a graph for testing score and training score from where we extract the best value for k(no. of nearest neighbour). From the above graph we can see that best value for k is 85 where the testing score>training score, while for other values of k as shown above there exist a overfitting situation.With this our model gives us an accuracy of 81% which is satisfactory also a satisfactory recall of 79%."
   ]
  },
  {
   "cell_type": "markdown",
   "id": "20c5444b",
   "metadata": {},
   "source": [
    "## Logistic Regression"
   ]
  },
  {
   "cell_type": "code",
   "execution_count": 26,
   "id": "42d12682",
   "metadata": {},
   "outputs": [
    {
     "data": {
      "text/plain": [
       "LogisticRegression(random_state=1)"
      ]
     },
     "execution_count": 26,
     "metadata": {},
     "output_type": "execute_result"
    }
   ],
   "source": [
    "model1=LogisticRegression(random_state=1)\n",
    "model1.fit(X_train_rs,y_train_rs)"
   ]
  },
  {
   "cell_type": "code",
   "execution_count": 27,
   "id": "6794ccf4",
   "metadata": {},
   "outputs": [
    {
     "data": {
      "text/plain": [
       "0.7587489666574814"
      ]
     },
     "execution_count": 27,
     "metadata": {},
     "output_type": "execute_result"
    }
   ],
   "source": [
    "model1.score(X_train_rs,y_train_rs)"
   ]
  },
  {
   "cell_type": "code",
   "execution_count": 28,
   "id": "07cfaef8",
   "metadata": {},
   "outputs": [
    {
     "name": "stdout",
     "output_type": "stream",
     "text": [
      "              precision    recall  f1-score   support\n",
      "\n",
      "           0       0.93      0.78      0.85      1579\n",
      "           1       0.46      0.77      0.58       383\n",
      "\n",
      "    accuracy                           0.78      1962\n",
      "   macro avg       0.70      0.78      0.71      1962\n",
      "weighted avg       0.84      0.78      0.80      1962\n",
      "\n"
     ]
    }
   ],
   "source": [
    "y_pred=model1.predict(X_test)\n",
    "print(classification_report(y_test,y_pred))"
   ]
  },
  {
   "cell_type": "code",
   "execution_count": 29,
   "id": "ab872375",
   "metadata": {},
   "outputs": [
    {
     "name": "stdout",
     "output_type": "stream",
     "text": [
      "296 350\n",
      "87 1229\n"
     ]
    }
   ],
   "source": [
    "tn, fp, fn, tp = confusion_matrix(y_test,y_pred).ravel()\n",
    "print(tp,fp)\n",
    "print(fn,tn)"
   ]
  },
  {
   "cell_type": "code",
   "execution_count": 30,
   "id": "02afed04",
   "metadata": {},
   "outputs": [],
   "source": [
    "prob = model1.predict_proba(X_test)[:,-1]\n",
    "\n",
    "thresholds = [0.5,0.4,0.3,0.2,0.1]\n",
    "tprs = []\n",
    "fprs = []"
   ]
  },
  {
   "cell_type": "code",
   "execution_count": 31,
   "id": "f440ee8e",
   "metadata": {},
   "outputs": [],
   "source": [
    "for th in thresholds:\n",
    "    y_pred = np.where(prob >= th, 1, 0)\n",
    "    tn, fp, fn, tp = confusion_matrix(y_test,y_pred).ravel()\n",
    "    \n",
    "    tpr = tp/(tp + fn)\n",
    "    fpr = fp/(fp + tn)\n",
    "    \n",
    "    tprs.append(tpr)\n",
    "    fprs.append(fpr)"
   ]
  },
  {
   "cell_type": "code",
   "execution_count": 32,
   "id": "fad5a44d",
   "metadata": {},
   "outputs": [
    {
     "data": {
      "image/png": "[encoded data removed]",
      "text/plain": [
       "<Figure size 432x288 with 1 Axes>"
      ]
     },
     "metadata": {
      "needs_background": "light"
     },
     "output_type": "display_data"
    }
   ],
   "source": [
    "plt.figure()\n",
    "plt.plot(fprs,tprs,\"x--\")\n",
    "plt.scatter(fprs,tprs)\n",
    "plt.xlabel(\"FPR\")\n",
    "plt.ylabel(\"TPR\")\n",
    "plt.show()"
   ]
  },
  {
   "cell_type": "code",
   "execution_count": 33,
   "id": "ce5c01e3",
   "metadata": {},
   "outputs": [
    {
     "name": "stdout",
     "output_type": "stream",
     "text": [
      "              precision    recall  f1-score   support\n",
      "\n",
      "           0       0.98      0.44      0.60      1579\n",
      "           1       0.29      0.96      0.45       383\n",
      "\n",
      "    accuracy                           0.54      1962\n",
      "   macro avg       0.64      0.70      0.53      1962\n",
      "weighted avg       0.84      0.54      0.57      1962\n",
      "\n"
     ]
    }
   ],
   "source": [
    "# final model\n",
    "y_pred = np.where(prob >= 0.2, 1, 0)\n",
    "print(classification_report(y_test,y_pred))"
   ]
  },
  {
   "cell_type": "code",
   "execution_count": 34,
   "id": "0e918047",
   "metadata": {},
   "outputs": [
    {
     "data": {
      "text/plain": [
       "0.698910471478627"
      ]
     },
     "execution_count": 34,
     "metadata": {},
     "output_type": "execute_result"
    }
   ],
   "source": [
    "from sklearn.metrics import roc_auc_score\n",
    "roc_auc_score(y_test,y_pred)"
   ]
  },
  {
   "cell_type": "markdown",
   "id": "56f2e953",
   "metadata": {},
   "source": [
    "### Explaination:-> Here in logistic regression with the help of graph b/w fpr vs tpr we find the best value for threshould and here in this case the best value is 0.2. Threshould=0.2 is selected because there is not that much improvement in tpr for threshould=0.1 also selecting 0.1 as threshould would significantly increase the fpr. Thus with this we get poor accuracy of 54% but a very good recall of 96% and area under the curve is 69.89%.   "
   ]
  },
  {
   "cell_type": "markdown",
   "id": "9104561a",
   "metadata": {},
   "source": [
    "## DecisionTree"
   ]
  },
  {
   "cell_type": "code",
   "execution_count": 35,
   "id": "0a2dfddc",
   "metadata": {},
   "outputs": [
    {
     "data": {
      "text/plain": [
       "DecisionTreeClassifier()"
      ]
     },
     "execution_count": 35,
     "metadata": {},
     "output_type": "execute_result"
    }
   ],
   "source": [
    "model2=DecisionTreeClassifier()\n",
    "model2.fit(X_train_rs,y_train_rs)"
   ]
  },
  {
   "cell_type": "code",
   "execution_count": 36,
   "id": "4b26e7f2",
   "metadata": {},
   "outputs": [
    {
     "data": {
      "text/plain": [
       "1.0"
      ]
     },
     "execution_count": 36,
     "metadata": {},
     "output_type": "execute_result"
    }
   ],
   "source": [
    "model2.score(X_train_rs,y_train_rs)"
   ]
  },
  {
   "cell_type": "code",
   "execution_count": 37,
   "id": "fe6df6c7",
   "metadata": {},
   "outputs": [
    {
     "name": "stdout",
     "output_type": "stream",
     "text": [
      "              precision    recall  f1-score   support\n",
      "\n",
      "           0       0.91      0.89      0.90      1579\n",
      "           1       0.59      0.65      0.62       383\n",
      "\n",
      "    accuracy                           0.84      1962\n",
      "   macro avg       0.75      0.77      0.76      1962\n",
      "weighted avg       0.85      0.84      0.85      1962\n",
      "\n"
     ]
    }
   ],
   "source": [
    "y_pred=model2.predict(X_test)\n",
    "print(classification_report(y_test,y_pred))"
   ]
  },
  {
   "cell_type": "markdown",
   "id": "8d948843",
   "metadata": {},
   "source": [
    "### Explaination:-> Here with all the default parameters value we get a accuracy of 84% and a poor recall of 64% also the training score is 100% due to which our model is overfitting situation. "
   ]
  },
  {
   "cell_type": "code",
   "execution_count": 38,
   "id": "ef8ef10a",
   "metadata": {},
   "outputs": [
    {
     "data": {
      "text/plain": [
       "22"
      ]
     },
     "execution_count": 38,
     "metadata": {},
     "output_type": "execute_result"
    }
   ],
   "source": [
    "model2.get_depth()"
   ]
  },
  {
   "cell_type": "markdown",
   "id": "fccd1c63",
   "metadata": {},
   "source": [
    "## DecisionTree : max_depth"
   ]
  },
  {
   "cell_type": "code",
   "execution_count": 39,
   "id": "5672b3d8",
   "metadata": {},
   "outputs": [
    {
     "data": {
      "text/plain": [
       "DecisionTreeClassifier(max_depth=5)"
      ]
     },
     "execution_count": 39,
     "metadata": {},
     "output_type": "execute_result"
    }
   ],
   "source": [
    "model3=DecisionTreeClassifier(max_depth=5)\n",
    "model3.fit(X_train_rs,y_train_rs)"
   ]
  },
  {
   "cell_type": "code",
   "execution_count": 40,
   "id": "ea9e8028",
   "metadata": {},
   "outputs": [
    {
     "data": {
      "text/plain": [
       "0.7980159823642877"
      ]
     },
     "execution_count": 40,
     "metadata": {},
     "output_type": "execute_result"
    }
   ],
   "source": [
    "model3.score(X_train_rs,y_train_rs)"
   ]
  },
  {
   "cell_type": "code",
   "execution_count": 41,
   "id": "35a1fe95",
   "metadata": {},
   "outputs": [
    {
     "name": "stdout",
     "output_type": "stream",
     "text": [
      "              precision    recall  f1-score   support\n",
      "\n",
      "           0       0.95      0.78      0.86      1579\n",
      "           1       0.48      0.83      0.61       383\n",
      "\n",
      "    accuracy                           0.79      1962\n",
      "   macro avg       0.71      0.81      0.73      1962\n",
      "weighted avg       0.86      0.79      0.81      1962\n",
      "\n"
     ]
    }
   ],
   "source": [
    "y_pred=model3.predict(X_test)\n",
    "print(classification_report(y_test,y_pred))"
   ]
  },
  {
   "cell_type": "markdown",
   "id": "9221bdd4",
   "metadata": {},
   "source": [
    "### Explaination:-> On specifing the value of the max_depth=5 we get 79% accuracy for both testing and training and a good recall of 83% also this model is a best fit model."
   ]
  },
  {
   "cell_type": "markdown",
   "id": "67cc0fc3",
   "metadata": {},
   "source": [
    "## DecisionTree : min_samples_leaf"
   ]
  },
  {
   "cell_type": "code",
   "execution_count": 42,
   "id": "2c99f9bf",
   "metadata": {},
   "outputs": [
    {
     "data": {
      "text/plain": [
       "DecisionTreeClassifier(min_samples_leaf=81)"
      ]
     },
     "execution_count": 42,
     "metadata": {},
     "output_type": "execute_result"
    }
   ],
   "source": [
    "model4=DecisionTreeClassifier(min_samples_leaf=81)\n",
    "model4.fit(X_train_rs,y_train_rs)"
   ]
  },
  {
   "cell_type": "code",
   "execution_count": 43,
   "id": "f1dd9442",
   "metadata": {},
   "outputs": [
    {
     "data": {
      "text/plain": [
       "0.8350785340314136"
      ]
     },
     "execution_count": 43,
     "metadata": {},
     "output_type": "execute_result"
    }
   ],
   "source": [
    "model4.score(X_train_rs,y_train_rs)"
   ]
  },
  {
   "cell_type": "code",
   "execution_count": 44,
   "id": "224fe1ec",
   "metadata": {},
   "outputs": [
    {
     "name": "stdout",
     "output_type": "stream",
     "text": [
      "              precision    recall  f1-score   support\n",
      "\n",
      "           0       0.94      0.83      0.89      1579\n",
      "           1       0.54      0.80      0.64       383\n",
      "\n",
      "    accuracy                           0.83      1962\n",
      "   macro avg       0.74      0.82      0.76      1962\n",
      "weighted avg       0.87      0.83      0.84      1962\n",
      "\n"
     ]
    }
   ],
   "source": [
    "y_pred=model4.predict(X_test)\n",
    "print(classification_report(y_test,y_pred))"
   ]
  },
  {
   "cell_type": "markdown",
   "id": "81fda5be",
   "metadata": {},
   "source": [
    "### Explaination:-> On specifing the value of min_samples_leaf=81 we get an accuracy of 83% for both the training and testing and a good recall value of 80% thus this model is the best fit model."
   ]
  },
  {
   "cell_type": "markdown",
   "id": "1ec095f1",
   "metadata": {},
   "source": [
    "## Random Forest"
   ]
  },
  {
   "cell_type": "code",
   "execution_count": 45,
   "id": "00a6e980",
   "metadata": {},
   "outputs": [],
   "source": [
    "from sklearn.ensemble import RandomForestClassifier"
   ]
  },
  {
   "cell_type": "code",
   "execution_count": 46,
   "id": "48e3f29a",
   "metadata": {},
   "outputs": [
    {
     "data": {
      "text/plain": [
       "RandomForestClassifier(max_depth=5, max_features=8, n_estimators=75)"
      ]
     },
     "execution_count": 46,
     "metadata": {},
     "output_type": "execute_result"
    }
   ],
   "source": [
    "rf = RandomForestClassifier(n_estimators=75, max_depth=5, max_features=8)\n",
    "rf.fit(X_train_rs, y_train_rs)"
   ]
  },
  {
   "cell_type": "code",
   "execution_count": 47,
   "id": "0a2b18fe",
   "metadata": {},
   "outputs": [
    {
     "data": {
      "text/plain": [
       "0.8160650316891706"
      ]
     },
     "execution_count": 47,
     "metadata": {},
     "output_type": "execute_result"
    }
   ],
   "source": [
    "rf.score(X_train_rs, y_train_rs)"
   ]
  },
  {
   "cell_type": "code",
   "execution_count": 48,
   "id": "3e62155e",
   "metadata": {},
   "outputs": [
    {
     "name": "stdout",
     "output_type": "stream",
     "text": [
      "              precision    recall  f1-score   support\n",
      "\n",
      "           0       0.94      0.85      0.89      1579\n",
      "           1       0.56      0.77      0.65       383\n",
      "\n",
      "    accuracy                           0.84      1962\n",
      "   macro avg       0.75      0.81      0.77      1962\n",
      "weighted avg       0.86      0.84      0.85      1962\n",
      "\n"
     ]
    }
   ],
   "source": [
    "y_pred = rf.predict(X_test)\n",
    "print(classification_report(y_test,y_pred))"
   ]
  },
  {
   "cell_type": "markdown",
   "id": "05e23029",
   "metadata": {},
   "source": [
    "### Explaination:-> With n_estimators=75, max_depth=5, max_features=8 in random forest algorithm we get a testing accuracy of 84% and training accuracy of 81.37% and almost good value of recall = 76%. "
   ]
  },
  {
   "cell_type": "markdown",
   "id": "36973874",
   "metadata": {},
   "source": [
    "## AdaBoost"
   ]
  },
  {
   "cell_type": "code",
   "execution_count": 49,
   "id": "582e29f8",
   "metadata": {},
   "outputs": [],
   "source": [
    "from sklearn.ensemble import AdaBoostClassifier"
   ]
  },
  {
   "cell_type": "code",
   "execution_count": 50,
   "id": "7ae29377",
   "metadata": {},
   "outputs": [
    {
     "data": {
      "text/plain": [
       "AdaBoostClassifier(n_estimators=100, random_state=1)"
      ]
     },
     "execution_count": 50,
     "metadata": {},
     "output_type": "execute_result"
    }
   ],
   "source": [
    "model7 = AdaBoostClassifier(n_estimators=100, random_state=1)\n",
    "model7.fit(X_train_rs,y_train_rs)"
   ]
  },
  {
   "cell_type": "code",
   "execution_count": 51,
   "id": "1ddcc77f",
   "metadata": {},
   "outputs": [
    {
     "name": "stdout",
     "output_type": "stream",
     "text": [
      "              precision    recall  f1-score   support\n",
      "\n",
      "           0       0.93      0.85      0.89      1579\n",
      "           1       0.55      0.75      0.64       383\n",
      "\n",
      "    accuracy                           0.83      1962\n",
      "   macro avg       0.74      0.80      0.77      1962\n",
      "weighted avg       0.86      0.83      0.84      1962\n",
      "\n"
     ]
    }
   ],
   "source": [
    "# prediction\n",
    "y_pred = model7.predict(X_test)\n",
    "\n",
    "print(classification_report(y_test,y_pred))"
   ]
  },
  {
   "cell_type": "markdown",
   "id": "d881f52a",
   "metadata": {},
   "source": [
    "### Explaination:-> With n_estimators=100 our ada boost algo will have 100 such number of estimators at which boosting is terminated. In case of perfect fit, the learning procedure is stopped early.Thus our model gives an accuracy of 83% and recall of 75%."
   ]
  },
  {
   "cell_type": "markdown",
   "id": "3a6b8e8b",
   "metadata": {},
   "source": [
    "## Gradient Boosting"
   ]
  },
  {
   "cell_type": "code",
   "execution_count": 52,
   "id": "95de73e6",
   "metadata": {},
   "outputs": [],
   "source": [
    "from sklearn.ensemble import GradientBoostingClassifier"
   ]
  },
  {
   "cell_type": "code",
   "execution_count": 53,
   "id": "55d07335",
   "metadata": {},
   "outputs": [
    {
     "data": {
      "text/plain": [
       "GradientBoostingClassifier(learning_rate=0.2, n_estimators=150, random_state=1)"
      ]
     },
     "execution_count": 53,
     "metadata": {},
     "output_type": "execute_result"
    }
   ],
   "source": [
    "model8 = GradientBoostingClassifier(random_state=1, n_estimators=150, learning_rate=0.2)\n",
    "model8.fit(X_train_rs,y_train_rs)"
   ]
  },
  {
   "cell_type": "code",
   "execution_count": 54,
   "id": "c94d6f52",
   "metadata": {},
   "outputs": [
    {
     "name": "stdout",
     "output_type": "stream",
     "text": [
      "              precision    recall  f1-score   support\n",
      "\n",
      "           0       0.93      0.88      0.91      1579\n",
      "           1       0.60      0.74      0.66       383\n",
      "\n",
      "    accuracy                           0.85      1962\n",
      "   macro avg       0.77      0.81      0.79      1962\n",
      "weighted avg       0.87      0.85      0.86      1962\n",
      "\n"
     ]
    }
   ],
   "source": [
    "y_pred = model8.predict(X_test)\n",
    "\n",
    "print(classification_report(y_test,y_pred))"
   ]
  },
  {
   "cell_type": "markdown",
   "id": "1507610b",
   "metadata": {},
   "source": [
    "### Explaination:-> In gradient boosting algorithm with random_state=1, n_estimators=150, learning_rate=0.2 we get an accuracy of 85% and a recall of 74%.Here Learning rate shrinks the contribution of each tree by learning_rate. There is a trade-off between learning_rate and n_estimators."
   ]
  },
  {
   "cell_type": "markdown",
   "id": "cf0f57fc",
   "metadata": {},
   "source": [
    "## XGboost "
   ]
  },
  {
   "cell_type": "code",
   "execution_count": 55,
   "id": "22d7ea4e",
   "metadata": {},
   "outputs": [
    {
     "name": "stdout",
     "output_type": "stream",
     "text": [
      "[18:27:11] WARNING: C:/Users/Administrator/workspace/xgboost-win64_release_1.5.1/src/learner.cc:1115: Starting in XGBoost 1.3.0, the default evaluation metric used with the objective 'binary:logistic' was changed from 'error' to 'logloss'. Explicitly set eval_metric if you'd like to restore the old behavior.\n"
     ]
    },
    {
     "data": {
      "text/plain": [
       "XGBClassifier(base_score=0.5, booster='gbtree', colsample_bylevel=1,\n",
       "              colsample_bynode=1, colsample_bytree=1, enable_categorical=False,\n",
       "              gamma=0, gpu_id=-1, importance_type=None,\n",
       "              interaction_constraints='', learning_rate=0.300000012,\n",
       "              max_delta_step=0, max_depth=6, min_child_weight=1, missing=nan,\n",
       "              monotone_constraints='()', n_estimators=200, n_jobs=8,\n",
       "              num_parallel_tree=1, predictor='auto', random_state=1,\n",
       "              reg_alpha=0, reg_lambda=1, scale_pos_weight=1, subsample=1,\n",
       "              tree_method='exact', validate_parameters=1, verbosity=None)"
      ]
     },
     "execution_count": 55,
     "metadata": {},
     "output_type": "execute_result"
    }
   ],
   "source": [
    "from xgboost import XGBClassifier\n",
    "\n",
    "xgb = XGBClassifier(n_estimators=200,random_state=1)\n",
    "\n",
    "xgb.fit(X_train_rs,y_train_rs)"
   ]
  },
  {
   "cell_type": "code",
   "execution_count": 56,
   "id": "950dd648",
   "metadata": {},
   "outputs": [
    {
     "name": "stdout",
     "output_type": "stream",
     "text": [
      "              precision    recall  f1-score   support\n",
      "\n",
      "           0       0.91      0.94      0.93      1579\n",
      "           1       0.72      0.63      0.67       383\n",
      "\n",
      "    accuracy                           0.88      1962\n",
      "   macro avg       0.82      0.79      0.80      1962\n",
      "weighted avg       0.88      0.88      0.88      1962\n",
      "\n"
     ]
    }
   ],
   "source": [
    "y_pred = xgb.predict(X_test)\n",
    "\n",
    "print(classification_report(y_test,y_pred))"
   ]
  },
  {
   "cell_type": "markdown",
   "id": "8d598dcd",
   "metadata": {},
   "source": [
    "### Explaination:-> As we know that extreme gradient boosting algo is similar to the gradient boost algo but with additional features such as parallization,cache optimization,regularization etc. so this model gives us an accuracy of 88% and a recall value of 63%."
   ]
  },
  {
   "cell_type": "markdown",
   "id": "dbf2dc12",
   "metadata": {},
   "source": [
    "## SVM"
   ]
  },
  {
   "cell_type": "code",
   "execution_count": 57,
   "id": "2d41502d",
   "metadata": {},
   "outputs": [
    {
     "data": {
      "text/plain": [
       "LinearSVC(random_state=1)"
      ]
     },
     "execution_count": 57,
     "metadata": {},
     "output_type": "execute_result"
    }
   ],
   "source": [
    "from sklearn.svm import LinearSVC\n",
    "from sklearn.svm import SVC\n",
    "\n",
    "lin_svc = LinearSVC(random_state=1)\n",
    "lin_svc.fit(X_train_rs,y_train_rs)"
   ]
  },
  {
   "cell_type": "code",
   "execution_count": 58,
   "id": "27a494f8",
   "metadata": {},
   "outputs": [
    {
     "name": "stdout",
     "output_type": "stream",
     "text": [
      "              precision    recall  f1-score   support\n",
      "\n",
      "           0       0.93      0.78      0.85      1579\n",
      "           1       0.46      0.77      0.58       383\n",
      "\n",
      "    accuracy                           0.78      1962\n",
      "   macro avg       0.70      0.78      0.72      1962\n",
      "weighted avg       0.84      0.78      0.80      1962\n",
      "\n"
     ]
    }
   ],
   "source": [
    "y_pred = lin_svc.predict(X_test)\n",
    "print(classification_report(y_test,y_pred))"
   ]
  },
  {
   "cell_type": "markdown",
   "id": "cefecf77",
   "metadata": {},
   "source": [
    "### Explaination:-> Here in SVM with C=1(no regularization) the accuracy is 78% and recall=77% so here there may be an issue of hard margin.To resolve this issue we have to convert hard margin to soft margin, which can be done with the help of C value whose default value is 1 and if we decrease the C value from 1 toward 0 then regularization will happen which in turn will convert hard margin to soft margin. "
   ]
  },
  {
   "cell_type": "markdown",
   "id": "86ea5973",
   "metadata": {},
   "source": [
    "## SVM : Soft Margin with C value"
   ]
  },
  {
   "cell_type": "code",
   "execution_count": 59,
   "id": "8436b4f1",
   "metadata": {},
   "outputs": [
    {
     "data": {
      "text/plain": [
       "LinearSVC(C=0.5, random_state=1)"
      ]
     },
     "execution_count": 59,
     "metadata": {},
     "output_type": "execute_result"
    }
   ],
   "source": [
    "lin_svc_soft = LinearSVC(random_state=1, C=0.5)\n",
    "lin_svc_soft.fit(X_train_rs,y_train_rs)"
   ]
  },
  {
   "cell_type": "code",
   "execution_count": 60,
   "id": "31b4ecac",
   "metadata": {},
   "outputs": [
    {
     "name": "stdout",
     "output_type": "stream",
     "text": [
      "              precision    recall  f1-score   support\n",
      "\n",
      "           0       0.93      0.78      0.85      1579\n",
      "           1       0.46      0.77      0.58       383\n",
      "\n",
      "    accuracy                           0.78      1962\n",
      "   macro avg       0.70      0.78      0.72      1962\n",
      "weighted avg       0.84      0.78      0.80      1962\n",
      "\n"
     ]
    }
   ],
   "source": [
    "y_pred = lin_svc_soft.predict(X_test)\n",
    "print(classification_report(y_test,y_pred))"
   ]
  },
  {
   "cell_type": "markdown",
   "id": "a908f36c",
   "metadata": {},
   "source": [
    "### Explaination:-> By mentioning the C value still we are getting the same result so here the issue is data is non-linearly seperable.So we now have to make use of kernel functions like polynomial kernel function,radial basis kernel function."
   ]
  },
  {
   "cell_type": "markdown",
   "id": "f6604378",
   "metadata": {},
   "source": [
    "## SVM : Polynomial Kernel function"
   ]
  },
  {
   "cell_type": "code",
   "execution_count": 61,
   "id": "46e541a6",
   "metadata": {},
   "outputs": [
    {
     "data": {
      "text/plain": [
       "SVC(C=0.5, kernel='poly', random_state=1)"
      ]
     },
     "execution_count": 61,
     "metadata": {},
     "output_type": "execute_result"
    }
   ],
   "source": [
    "svc1 = SVC(kernel=\"poly\", degree=3, random_state=1, C=0.5)\n",
    "svc1.fit(X_train_rs,y_train_rs)"
   ]
  },
  {
   "cell_type": "code",
   "execution_count": 62,
   "id": "17b81a71",
   "metadata": {},
   "outputs": [
    {
     "name": "stdout",
     "output_type": "stream",
     "text": [
      "              precision    recall  f1-score   support\n",
      "\n",
      "           0       0.93      0.86      0.89      1579\n",
      "           1       0.56      0.74      0.64       383\n",
      "\n",
      "    accuracy                           0.84      1962\n",
      "   macro avg       0.75      0.80      0.77      1962\n",
      "weighted avg       0.86      0.84      0.84      1962\n",
      "\n"
     ]
    }
   ],
   "source": [
    "y_pred = svc1.predict(X_test)\n",
    "print(classification_report(y_test,y_pred))"
   ]
  },
  {
   "cell_type": "markdown",
   "id": "58eb4dd2",
   "metadata": {},
   "source": [
    "### Explaination:-> In SVM polynomial kernel function with degree=3, random_state=1, C=0.5 we get an accuracy of 84% and recall of 74% which is best among other degree of plonomials."
   ]
  },
  {
   "cell_type": "markdown",
   "id": "21a43487",
   "metadata": {},
   "source": [
    "## SVM : Radial Basis Kernel function"
   ]
  },
  {
   "cell_type": "code",
   "execution_count": 63,
   "id": "8ad9eae3",
   "metadata": {},
   "outputs": [
    {
     "data": {
      "text/plain": [
       "SVC(C=0.1, random_state=1)"
      ]
     },
     "execution_count": 63,
     "metadata": {},
     "output_type": "execute_result"
    }
   ],
   "source": [
    "svc2 = SVC(kernel=\"rbf\",random_state=1,C=0.1)\n",
    "svc2.fit(X_train_rs,y_train_rs)"
   ]
  },
  {
   "cell_type": "code",
   "execution_count": 64,
   "id": "f83725d8",
   "metadata": {},
   "outputs": [
    {
     "name": "stdout",
     "output_type": "stream",
     "text": [
      "              precision    recall  f1-score   support\n",
      "\n",
      "           0       0.94      0.84      0.89      1579\n",
      "           1       0.54      0.77      0.64       383\n",
      "\n",
      "    accuracy                           0.83      1962\n",
      "   macro avg       0.74      0.81      0.76      1962\n",
      "weighted avg       0.86      0.83      0.84      1962\n",
      "\n"
     ]
    }
   ],
   "source": [
    "y_pred = svc2.predict(X_test)\n",
    "print(classification_report(y_test,y_pred))"
   ]
  },
  {
   "cell_type": "markdown",
   "id": "9f07439a",
   "metadata": {},
   "source": [
    "### Explaination:-> In radial basis kernel function with random_state=1,C=0.1 we get an accuracy of 83% and recall of 77%. Here the radial basis kernel functions have more recall value than polynomial kernel function and accuracy of both the kernel functions are similar.So radial basis kernel function is best in comparison to the polynomial kernel function for this dataset."
   ]
  },
  {
   "cell_type": "markdown",
   "id": "10664f07",
   "metadata": {},
   "source": [
    "## AutoML"
   ]
  },
  {
   "cell_type": "code",
   "execution_count": 65,
   "id": "7851a598",
   "metadata": {},
   "outputs": [],
   "source": [
    "from tpot import TPOTClassifier"
   ]
  },
  {
   "cell_type": "code",
   "execution_count": 66,
   "id": "c7b11b60",
   "metadata": {},
   "outputs": [
    {
     "data": {
      "text/plain": [
       "TPOTClassifier(generations=5, max_time_mins=10, random_state=1)"
      ]
     },
     "execution_count": 66,
     "metadata": {},
     "output_type": "execute_result"
    }
   ],
   "source": [
    "model9 = TPOTClassifier(generations=5, random_state=1, max_time_mins=10)\n",
    "model9.fit(X_train_rs,y_train_rs)"
   ]
  },
  {
   "cell_type": "code",
   "execution_count": 67,
   "id": "99bb053d",
   "metadata": {},
   "outputs": [
    {
     "data": {
      "text/plain": [
       "1.0"
      ]
     },
     "execution_count": 67,
     "metadata": {},
     "output_type": "execute_result"
    }
   ],
   "source": [
    "# train score\n",
    "model9.score(X_train_rs,y_train_rs)"
   ]
  },
  {
   "cell_type": "code",
   "execution_count": 68,
   "id": "97b7926f",
   "metadata": {},
   "outputs": [
    {
     "data": {
      "text/plain": [
       "0.8878695208970439"
      ]
     },
     "execution_count": 68,
     "metadata": {},
     "output_type": "execute_result"
    }
   ],
   "source": [
    "# test score\n",
    "model9.score(X_test,y_test)"
   ]
  },
  {
   "cell_type": "code",
   "execution_count": 69,
   "id": "df45ec79",
   "metadata": {},
   "outputs": [
    {
     "data": {
      "text/plain": [
       "Pipeline(steps=[('stackingestimator-1',\n",
       "                 StackingEstimator(estimator=MLPClassifier(alpha=0.1,\n",
       "                                                           learning_rate_init=1.0,\n",
       "                                                           random_state=1))),\n",
       "                ('stackingestimator-2',\n",
       "                 StackingEstimator(estimator=GradientBoostingClassifier(learning_rate=0.5,\n",
       "                                                                        max_depth=9,\n",
       "                                                                        max_features=0.9000000000000001,\n",
       "                                                                        min_samples_leaf=2,\n",
       "                                                                        min_samples_split=7,\n",
       "                                                                        random_state=1,\n",
       "                                                                        subsample=0.900000000000...\n",
       "                               gamma=0, gpu_id=-1, importance_type=None,\n",
       "                               interaction_constraints='', learning_rate=0.5,\n",
       "                               max_delta_step=0, max_depth=4,\n",
       "                               min_child_weight=8, missing=nan,\n",
       "                               monotone_constraints='()', n_estimators=100,\n",
       "                               n_jobs=1, num_parallel_tree=1, predictor='auto',\n",
       "                               random_state=1, reg_alpha=0, reg_lambda=1,\n",
       "                               scale_pos_weight=1, subsample=0.5,\n",
       "                               tree_method='exact', validate_parameters=1,\n",
       "                               verbosity=0))])"
      ]
     },
     "execution_count": 69,
     "metadata": {},
     "output_type": "execute_result"
    }
   ],
   "source": [
    "model9.fitted_pipeline_"
   ]
  },
  {
   "cell_type": "markdown",
   "id": "6dd389f3",
   "metadata": {},
   "source": [
    "### Explaination:-> As we know that in auto ml the processes that are automated are preprocessing,feature engineering,modelling and tunning and evaluation so it automatically gives us the best fitted pipe line.So through AutoML we get an accuracy of 100% in training and 88.78% accuracy of testing.So according to the value of parameters like generations,max_time_mins the TPOT will optimize the pipeline "
   ]
  }
 ],
 "metadata": {
  "kernelspec": {
   "display_name": "Python 3 (ipykernel)",
   "language": "python",
   "name": "python3"
  },
  "language_info": {
   "codemirror_mode": {
    "name": "ipython",
    "version": 3
   },
   "file_extension": ".py",
   "mimetype": "text/x-python",
   "name": "python",
   "nbconvert_exporter": "python",
   "pygments_lexer": "ipython3",
   "version": "3.9.12"
  }
 },
 "nbformat": 4,
 "nbformat_minor": 5
}
